{
 "cells": [
  {
   "cell_type": "code",
   "execution_count": 1,
   "metadata": {},
   "outputs": [],
   "source": [
    "import pandas as pd\n",
    "import matplotlib.pyplot as plt\n",
    "import csv\n",
    "import numpy as np\n",
    "from tqdm import tqdm\n",
    "import tensorflow as tf\n",
    "\n",
    "import os\n"
   ]
  },
  {
   "cell_type": "code",
   "execution_count": 2,
   "metadata": {},
   "outputs": [],
   "source": [
    "DATA_PATH = os.path.abspath(os.path.join(os.getcwd(), os.pardir, 'data')).replace('\\\\', '/') + '/'\n",
    "ANNO_COARSE_PATH = DATA_PATH + 'anno_coarse'\n",
    "IMG = DATA_PATH + 'img'\n",
    "\n",
    "ATTR_CLOTH_LIST_FILE = ANNO_COARSE_PATH + '/list_attr_cloth.txt'\n",
    "ATTR_IMG_LIST_FILE = ANNO_COARSE_PATH + '/list_attr_img.txt'\n",
    "ATTR_TYPES = {'1':\"Estampado\",'2':\"Tejido\",'3':\"Forma\",'4':\"Partes\",'5':\"Estilo\"}\n",
    "\n",
    "TRAIN_FILE = ANNO_COARSE_PATH + '/train_attr.txt'\n",
    "TEST_FILE = ANNO_COARSE_PATH + '/test_attr.txt'\n",
    "VAL_FILE  = ANNO_COARSE_PATH + '/val_attr.txt'\n",
    "\n",
    "NUM_CLASSES = 1000"
   ]
  },
  {
   "cell_type": "markdown",
   "metadata": {},
   "source": [
    "En primer lugar cargamos los datos y construimos una serie de estructuras de datos auxiliares para facilitar el análisis:"
   ]
  },
  {
   "cell_type": "code",
   "execution_count": 3,
   "metadata": {},
   "outputs": [],
   "source": [
    "# Lectura de la lista de atributos\n",
    "def read_attr_cloth_list():\n",
    "    column_to_attr_name = {}\n",
    "    column_to_attr_type = {}\n",
    "    attr_type_to_columns = {}\n",
    "    \n",
    "    with open(ATTR_CLOTH_LIST_FILE) as fp: \n",
    "        fp.readline() # Ingorar numero de etiquetas\n",
    "        fp.readline() # Ignorar cabecera\n",
    "        column = 0\n",
    "        for line in fp: \n",
    "            fields = line.split()\n",
    "            attr = \" \".join(fields[:-1])\n",
    "            attr_type = fields[-1]\n",
    "            column_to_attr_name[column] = attr\n",
    "            column_to_attr_type[column] = attr_type\n",
    "            if attr_type in attr_type_to_columns:\n",
    "                attr_type_to_columns[attr_type].append(column)\n",
    "            else:\n",
    "                attr_type_to_columns[attr_type] = [column]\n",
    "            column += 1\n",
    "    return column_to_attr_name, attr_type_to_columns, column_to_attr_type\n",
    "\n",
    "# Lectura de atributos asociados a una imagen\n",
    "def read_attr_img_list():\n",
    "    attr_dict = []\n",
    "    with open(ATTR_IMG_LIST_FILE) as fp: \n",
    "        fp.readline() # Ingorar numero de lineas\n",
    "        fp.readline() # Ignorar cabecera\n",
    "        for line in fp:\n",
    "            row = [int(i) for i in line.split()[1:]]\n",
    "            attr_dict.append(row)\n",
    "    return pd.DataFrame.from_records(attr_dict)\n"
   ]
  },
  {
   "cell_type": "code",
   "execution_count": 4,
   "metadata": {},
   "outputs": [],
   "source": [
    "column_to_attr_name, attr_type_to_columns, column_to_attr_type = read_attr_cloth_list()           \n",
    "attr_img_list = read_attr_img_list()    \n",
    "attributes = list(column_to_attr_name.values())"
   ]
  },
  {
   "cell_type": "markdown",
   "metadata": {},
   "source": [
    "Comprobamos el mínimo y máximo de atributos asociados a una imagen. Vemos que, a diferencia de la versión reducida del conjunto de datos, el número de atributos no es el mismo en todas las imágenes. \n",
    "\n",
    "Vemos que existe alrededor de 13000 imágenes no asociadas a ningún atributo, y una única imagen está asociada al valor máximo obtenido (21). "
   ]
  },
  {
   "cell_type": "code",
   "execution_count": 5,
   "metadata": {},
   "outputs": [
    {
     "name": "stdout",
     "output_type": "stream",
     "text": [
      "Número mínimo de atributos: 0\n",
      "Número máximo de atributos: 21\n"
     ]
    }
   ],
   "source": [
    "# Análisis del número mínimo y máximo de atributos que puede tener una imagen\n",
    "num_attr_per_img = (attr_img_list == 1).astype(int).sum(axis=1)\n",
    "print('Número mínimo de atributos: {}'.format(min(num_attr_per_img)))\n",
    "print('Número máximo de atributos: {}'.format(max(num_attr_per_img)))"
   ]
  },
  {
   "cell_type": "code",
   "execution_count": 6,
   "metadata": {},
   "outputs": [
    {
     "data": {
      "text/plain": [
       "178507    21\n",
       "dtype: int64"
      ]
     },
     "execution_count": 6,
     "metadata": {},
     "output_type": "execute_result"
    }
   ],
   "source": [
    "num_attr_per_img[num_attr_per_img == 21]"
   ]
  },
  {
   "cell_type": "code",
   "execution_count": 7,
   "metadata": {},
   "outputs": [
    {
     "data": {
      "text/plain": [
       "10        0\n",
       "41        0\n",
       "51        0\n",
       "62        0\n",
       "73        0\n",
       "         ..\n",
       "288862    0\n",
       "288948    0\n",
       "288959    0\n",
       "289131    0\n",
       "289132    0\n",
       "Length: 12969, dtype: int64"
      ]
     },
     "execution_count": 7,
     "metadata": {},
     "output_type": "execute_result"
    }
   ],
   "source": [
    "\n",
    "num_attr_per_img[num_attr_per_img == 0]"
   ]
  },
  {
   "cell_type": "markdown",
   "metadata": {},
   "source": [
    "Comprobamos como se distribuye el número de atributos de las imágenes, y vemos que el 75% de las imágenes están asociadas a 4 atributos o menos. "
   ]
  },
  {
   "cell_type": "code",
   "execution_count": 8,
   "metadata": {},
   "outputs": [
    {
     "data": {
      "text/plain": [
       "Text(0.5, 1.0, 'Num. atributos por imagen')"
      ]
     },
     "execution_count": 8,
     "metadata": {},
     "output_type": "execute_result"
    },
    {
     "data": {
      "image/png": "[encoded data removed]",
      "text/plain": [
       "<Figure size 432x288 with 1 Axes>"
      ]
     },
     "metadata": {
      "needs_background": "light"
     },
     "output_type": "display_data"
    }
   ],
   "source": [
    "h = num_attr_per_img.hist(bins=21)\n",
    "h.set_xlabel(\"Num. atributos\")\n",
    "h.set_ylabel(\"Num. imágenes\")\n",
    "h.set_title(\"Num. atributos por imagen\")"
   ]
  },
  {
   "cell_type": "code",
   "execution_count": 9,
   "metadata": {},
   "outputs": [
    {
     "data": {
      "text/plain": [
       "count    289222.000000\n",
       "mean          3.322742\n",
       "std           1.956819\n",
       "min           0.000000\n",
       "25%           2.000000\n",
       "50%           3.000000\n",
       "75%           4.000000\n",
       "max          21.000000\n",
       "dtype: float64"
      ]
     },
     "execution_count": 9,
     "metadata": {},
     "output_type": "execute_result"
    }
   ],
   "source": [
    "num_attr_per_img.describe()"
   ]
  },
  {
   "cell_type": "markdown",
   "metadata": {},
   "source": [
    "Teniendo en cuenta las tres particiones, comprobamos que frecuencia de aparición tienen el atributo minoritario y el atributo mayoritario."
   ]
  },
  {
   "cell_type": "code",
   "execution_count": 10,
   "metadata": {},
   "outputs": [
    {
     "name": "stdout",
     "output_type": "stream",
     "text": [
      "Frecuencia del atributo minoritario: 51\n",
      "Frecuencia del atributo mayoritario: 37367\n"
     ]
    }
   ],
   "source": [
    "# Análisis del número mínimo y máximo de atributos que puede tener una imagen\n",
    "num_img_per_attr = (attr_img_list == 1).astype(int).sum(axis=0)\n",
    "print('Frecuencia del atributo minoritario: {}'.format(min(num_img_per_attr)))\n",
    "print('Frecuencia del atributo mayoritario: {}'.format(max(num_img_per_attr)))"
   ]
  },
  {
   "cell_type": "markdown",
   "metadata": {},
   "source": [
    "Comprobamos como se distribuye el número de imágenes en las que aparecen los atributos. El 75% de los atributos está presente en 767 imágenes o menos. El atributo mayoritario está presente en 37367 imágenes. "
   ]
  },
  {
   "cell_type": "code",
   "execution_count": 11,
   "metadata": {},
   "outputs": [
    {
     "data": {
      "text/plain": [
       "Text(0.5, 1.0, 'Num. imágenes en los que aparece un atributo')"
      ]
     },
     "execution_count": 11,
     "metadata": {},
     "output_type": "execute_result"
    },
    {
     "data": {
      "image/png": "[encoded data removed]",
      "text/plain": [
       "<Figure size 432x288 with 1 Axes>"
      ]
     },
     "metadata": {
      "needs_background": "light"
     },
     "output_type": "display_data"
    }
   ],
   "source": [
    "h = num_img_per_attr.hist(bins=40)\n",
    "h.set_xlabel(\"Num. imágenes\")\n",
    "h.set_ylabel(\"Num. atributos\")\n",
    "h.set_title(\"Num. imágenes en los que aparece un atributo\")"
   ]
  },
  {
   "cell_type": "code",
   "execution_count": 12,
   "metadata": {},
   "outputs": [
    {
     "data": {
      "text/plain": [
       "count     1000.000000\n",
       "mean       961.010000\n",
       "std       2341.581377\n",
       "min         51.000000\n",
       "25%        107.000000\n",
       "50%        258.000000\n",
       "75%        767.250000\n",
       "max      37367.000000\n",
       "dtype: float64"
      ]
     },
     "execution_count": 12,
     "metadata": {},
     "output_type": "execute_result"
    }
   ],
   "source": [
    "num_img_per_attr.describe()"
   ]
  },
  {
   "cell_type": "markdown",
   "metadata": {},
   "source": [
    "Vamos a comprobar cuales son estos atributos mayoritarios y minoritarios. "
   ]
  },
  {
   "cell_type": "code",
   "execution_count": 13,
   "metadata": {},
   "outputs": [],
   "source": [
    "data = {'count':list(num_img_per_attr), 'i':list(column_to_attr_name.keys()) }\n",
    "df = pd.DataFrame(data, index=list(column_to_attr_name.values()))\n",
    "df[\"type\"] = df.apply(lambda row: column_to_attr_type[row['i']], axis = 1) \n",
    "\n",
    "df = df.sort_values(by=['count'], ascending=False).drop(['i', 'type'], axis=1)"
   ]
  },
  {
   "cell_type": "code",
   "execution_count": 14,
   "metadata": {},
   "outputs": [
    {
     "name": "stdout",
     "output_type": "stream",
     "text": [
      "Atributos con mayor frecuencia de aparición\n",
      "         count\n",
      "print    37367\n",
      "floral   24188\n",
      "lace     20434\n",
      "knit     18498\n",
      "sleeve   17828\n",
      "maxi     15990\n",
      "shirt    14920\n",
      "denim    13178\n",
      "striped  11771\n",
      "chiffon  11735\n"
     ]
    }
   ],
   "source": [
    "print('Atributos con mayor frecuencia de aparición')\n",
    "print(df.head(10))"
   ]
  },
  {
   "cell_type": "code",
   "execution_count": 15,
   "metadata": {},
   "outputs": [
    {
     "name": "stdout",
     "output_type": "stream",
     "text": [
      "Atributos con menor frecuencia de aparición\n",
      "                  count\n",
      "ornate paisley       52\n",
      "high-rise skinny     52\n",
      "boxy lace            52\n",
      "defyant              52\n",
      "print smock          52\n",
      "deep-v               51\n",
      "floral textured      51\n",
      "topstitched          51\n",
      "raw-cut              51\n",
      "floral flutter       51\n"
     ]
    }
   ],
   "source": [
    "print('Atributos con menor frecuencia de aparición')\n",
    "print(df.tail(10))"
   ]
  },
  {
   "cell_type": "markdown",
   "metadata": {},
   "source": [
    "Comprobamos también la distribución de los distintos atributos dentro de los tipos de atributo. "
   ]
  },
  {
   "cell_type": "code",
   "execution_count": 16,
   "metadata": {},
   "outputs": [
    {
     "data": {
      "image/png": "[encoded data removed]",
      "text/plain": [
       "<Figure size 1440x1440 with 6 Axes>"
      ]
     },
     "metadata": {
      "needs_background": "light"
     },
     "output_type": "display_data"
    }
   ],
   "source": [
    "# Análisis de frecuencias dentro de cada tipo de atributo\n",
    "num_occ_per_attr = (attr_img_list == 1).astype(int).sum(axis=0)\n",
    "num_occ_per_attr.loc[1]\n",
    "count = 0\n",
    "figs = []\n",
    "fig, axs = plt.subplots(3, 2, figsize=(20, 20))\n",
    "\n",
    "for attr_type, columns in attr_type_to_columns.items():\n",
    "    labels = [column_to_attr_name[c] for c in columns]\n",
    "    counts = [num_occ_per_attr.loc[c] for c in columns]\n",
    "    \n",
    "    r = count // 2\n",
    "    c = count % 2\n",
    "    \n",
    "    df = pd.DataFrame(counts, index=labels, columns=[\"count\"])\n",
    "    df = df.sort_values(by=['count'], ascending=False)\n",
    "    \n",
    "    axs[r, c].set_title(ATTR_TYPES[attr_type], fontsize=15)\n",
    "    axs[r, c].set(xlabel='Atributo', ylabel='Num. imágenes')\n",
    "    axs[r, c].bar(df.index.values,df['count'])\n",
    "    count += 1\n",
    "#plt.show()    \n",
    "plt.savefig('foo.png')"
   ]
  },
  {
   "cell_type": "markdown",
   "metadata": {},
   "source": [
    "# Data imbalance"
   ]
  },
  {
   "cell_type": "markdown",
   "metadata": {},
   "source": [
    "De forma análoga a la versión reducida del conjunto de datos, se va a crear varias versiones alterativas de la partición de entrenamiento para tratar de reducir el impacto del *data imbalance*. En primer lugar, definimos el código necesario para la manipulación de los ficheros de datos. Este código, salvo pequeños detalles, es idéntico al empleado en el *notebook* de la versión reducida del conjunto de datos por lo que se omite su descripción detallada. "
   ]
  },
  {
   "cell_type": "code",
   "execution_count": 17,
   "metadata": {},
   "outputs": [],
   "source": [
    "def build_partition_distribution_table():\n",
    "\n",
    "    names = []\n",
    "    names.append('filename')\n",
    "    names.extend([str(i) for i in range(0,NUM_CLASSES)])\n",
    "    \n",
    "     # Carga de las anotaciones reales de la partición de entrenamiento\n",
    "    partition_attribute_filepath = ANNO_COARSE_PATH + \"/train_attr.txt\"\n",
    "    y_true_train = pd.read_csv(partition_attribute_filepath, sep = ' ', names = names, index_col=False)\n",
    "    y_true_train = y_true_train.drop(columns=['filename'])\n",
    "    \n",
    "    # Columna de tipo de atributo\n",
    "    attr_types = []\n",
    "    for k, v in attr_type_to_columns.items():\n",
    "        attr_types.extend([ATTR_TYPES[str(k)]] * len(v))\n",
    "\n",
    "    # Columnas de frecuencia real\n",
    "    frequency_train = y_true_train.sum().tolist()\n",
    "    \n",
    "    # Creación de dataframe\n",
    "    d = {'Atributo': attributes, 'Tipo': attr_types, 'Frecuencia train' : frequency_train}\n",
    "    df =  pd.DataFrame(data=d)\n",
    "    \n",
    "    # Eliminamos atributos no presentes en la partición\n",
    "    df = df[df['Frecuencia train'] != 0]\n",
    "\n",
    "    return df\n",
    "    "
   ]
  },
  {
   "cell_type": "code",
   "execution_count": 18,
   "metadata": {},
   "outputs": [],
   "source": [
    "ATTR_IMG_LIST_FILE = ANNO_COARSE_PATH + '/list_attr_img.txt'\n",
    "PARTITION_FILE = ANNO_COARSE_PATH + '/list_eval_partition.txt'"
   ]
  },
  {
   "cell_type": "code",
   "execution_count": 19,
   "metadata": {},
   "outputs": [],
   "source": [
    "def read_partition_files():\n",
    "    data = {}\n",
    "    data['train'] = []\n",
    "    data['test'] = []\n",
    "    data['val'] = []\n",
    "    with open(PARTITION_FILE) as fp:\n",
    "        fp.readline() # Ingorar numero de etiquetas\n",
    "        fp.readline() # Ingorar numero de etiquetas\n",
    "        for line in fp:\n",
    "            fields = line.split()\n",
    "            \n",
    "            img_path = fields[0]           \n",
    "            partition = fields[1]\n",
    "            data[partition].append(img_path)\n",
    "    return data"
   ]
  },
  {
   "cell_type": "code",
   "execution_count": 20,
   "metadata": {},
   "outputs": [],
   "source": [
    "partitions = read_partition_files()"
   ]
  },
  {
   "cell_type": "code",
   "execution_count": 21,
   "metadata": {},
   "outputs": [],
   "source": [
    "def split():\n",
    "    with open(ATTR_IMG_LIST_FILE) as fp, open(TRAIN_FILE, 'w', newline='') as train_file,open(VAL_FILE, 'w', newline='') as val_file, open(TEST_FILE, 'w', newline='') as test_file:\n",
    "          \n",
    "        train_wr = csv.writer(train_file, delimiter=' ')\n",
    "        test_wr = csv.writer(test_file, delimiter=' ')\n",
    "        val_wr = csv.writer(val_file, delimiter=' ')\n",
    "\n",
    "        fp.readline() # Ingorar numero de etiquetas\n",
    "        fp.readline() # Ingorar numero de etiquetas\n",
    "        for line in tqdm(fp):\n",
    "            \n",
    "            fields = ['0' if f=='-1' else f for f in line.split()]\n",
    "            img_path = fields[0]\n",
    "            \n",
    "            fields[0] = fields[0].replace('img/', '').replace('/','')\n",
    "            \n",
    "            if img_path in partitions['train']:\n",
    "                train_wr.writerow(fields)\n",
    "            elif img_path in partitions['val']:\n",
    "                val_wr.writerow(fields)\n",
    "            elif img_path in partitions['test']:\n",
    "                test_wr.writerow(fields)\n",
    "            else:\n",
    "                print(img_path)\n"
   ]
  },
  {
   "cell_type": "code",
   "execution_count": 22,
   "metadata": {},
   "outputs": [],
   "source": [
    "# Decomentar para generar un fichero por partición de datos. \n",
    "# Estos ficheros son necesarios para la ejecución del notebook con la construcción de modelos basados en este conjunto de datos\n",
    "#split()"
   ]
  },
  {
   "cell_type": "code",
   "execution_count": 23,
   "metadata": {},
   "outputs": [],
   "source": [
    "def show_frequencies(df):\n",
    "    attr_types = []\n",
    "    for k, v in attr_type_to_columns.items():\n",
    "        attr_types.extend([ATTR_TYPES[str(k)]] * len(v))\n",
    "\n",
    "    # Columnas de frecuencia real\n",
    "    df = df.drop(columns=['filename'])\n",
    "    frequency_train = df.sum().tolist()\n",
    "\n",
    "    # Creación de dataframe\n",
    "    d = {'Atributo': attributes, 'Tipo': attr_types, 'Frecuencia train' : frequency_train}\n",
    "    return pd.DataFrame(data=d)"
   ]
  },
  {
   "cell_type": "code",
   "execution_count": 24,
   "metadata": {},
   "outputs": [],
   "source": [
    "# Recupera el fichero con el dataframe de atributos por imagen, y añade la columna filename\n",
    "def get_train_data():\n",
    "    partition_attribute_filepath = ANNO_COARSE_PATH + \"/train_attr.txt\"\n",
    "    data = pd.read_csv(partition_attribute_filepath, sep = ' ', names = attributes , index_col=False)\n",
    "    return data\n",
    "\n",
    "df = get_train_data()\n"
   ]
  },
  {
   "cell_type": "markdown",
   "metadata": {},
   "source": [
    "## Opcion 1: Una observación por combinación de etiquetas"
   ]
  },
  {
   "cell_type": "markdown",
   "metadata": {},
   "source": [
    "Esta opción, descrita en el *notebook* de la versión reducida del dataset, se basa en el problema de [One-shot learning](https://en.wikipedia.org/wiki/One-shot_learning) de visión por computador en el que el modelo se entrena a partir de observaciones únicas.\n",
    "En esta versión del conjunto de datos no existen observaciones cuyos conjuntos sean iguales por lo que esta opción se descarta directamente. "
   ]
  },
  {
   "cell_type": "code",
   "execution_count": 25,
   "metadata": {},
   "outputs": [
    {
     "name": "stdout",
     "output_type": "stream",
     "text": [
      "Número de combinaciones de atributos distintas: 209222\n"
     ]
    }
   ],
   "source": [
    "df = df.drop_duplicates(subset=attributes)\n",
    "print('Número de combinaciones de atributos distintas: {}'.format(len(df)))\n",
    "# Guardamos en fichero para ser usado desde otro notebook\n",
    "#df.to_csv(ANNO_COARSE_PATH + \"/coarse_no_dupe.txt\", index=False, header=True, sep=' ')\n"
   ]
  },
  {
   "cell_type": "markdown",
   "metadata": {},
   "source": [
    "## Opción 2: Oversampling y undersampling por etiqueta"
   ]
  },
  {
   "cell_type": "markdown",
   "metadata": {},
   "source": [
    "Esta es la variante del conjunto de datos con el que mejores resultados se ha obtenido con la versión reducida. \n",
    "\n",
    "Recordamos que se trata de hacer oversampling de los atributos minoritarios y undersampling de los mayoritarios. Esto no es sencillo en el caso de clasificación multilabel puesto que ambos pueden aparecer en una misma observación. Para ello se ha establecido un algoritmo de ranking, en el que a cada observación se le asigna una puntuación en función de la frecuencia de aparición de los atributos con valor positivo que la forman. \n",
    "\n",
    "El procedimiento que se seguirá en este caso es el siguiente:\n",
    "- Se ordenarán los atributos de un mismo tipo de atributo en base al número de ocurrencias, y se le asignará un peso en base a la posición en esa ordenación. Por ejemplo, en el caso de tener las siguientes etiquetas con el siguiente número de observaciones: {A:10, B:40, C:20, D:60}, los pesos serían: {A:1/4, B:3/4, C:2/4, D:4/4} = {A:0.25, C:0.5, B:0.75, D:1}\n",
    "- Se calcula la puntuación de las observaciones. La puntuación de una observación es la suma de la multiplicación de los atributos con 1s por su peso correspondiente.\n",
    "- Para un 30% del dataset, de forma iterativa en batches de 200 elementos:\n",
    "    - Se ordenan las observaciones por su peso. \n",
    "    - Se calcula el percentil 25 y 75 del peso de las observaciones\n",
    "    - Se eliminan 2000 elementos de forma aleatoria y ponderada en base al peso, de las observaciones cuyo peso es superior al p75.\n",
    "    - Se duplican 2000 elementos de forma aleatoria y ponderada en base al peso inverso, de las observaciones cuyo peso es inferior al p25. \n",
    "    \n",
    "Siguiendo este procedimiento, en cada iteración se eliminan observaciones formadas por atributos mayoritarios y se duplican observaciones formadas por atributos minoritarios.  \n",
    "\n",
    "**La diferencia con la versión reducida del conjunto de datos es que tras calcular los pesos, se eliminan todas las observaciones con peso 0, es decir, las observaciones que no tienen ningún atributo asociado**."
   ]
  },
  {
   "cell_type": "code",
   "execution_count": 28,
   "metadata": {},
   "outputs": [],
   "source": [
    "# Recupera el fichero con el dataframe de atributos por imagen, y añade la columna filename\n",
    "def get_train_data():\n",
    "    partition_attribute_filepath = ANNO_COARSE_PATH + \"/train_attr.txt\"\n",
    "    \n",
    "    names = []\n",
    "    names.append('filename')\n",
    "    names.extend(attributes)\n",
    "    \n",
    "    data = pd.read_csv(partition_attribute_filepath, sep = ' ', names = names , index_col=False)\n",
    "    \n",
    "    return data\n",
    "\n",
    "# Genera array de pesos ordenando los atributos dentro de su tipo de atributo en base al número de ocurrencias\n",
    "# en la partición de train.\n",
    "def get_attribute_weights():\n",
    "    df = build_partition_distribution_table()\n",
    "    d = {}\n",
    "    for i,attr_type in ATTR_TYPES.items():\n",
    "        attr_type_df = df.loc[df['Tipo'] == attr_type].sort_values(by=['Frecuencia train'])\n",
    "\n",
    "        attr_type_df['weight'] = np.arange(len(attr_type_df))\n",
    "        r, c = attr_type_df.shape\n",
    "        attr_type_df['weight'] = attr_type_df['weight'].apply(lambda x: x/c)\n",
    "        s = pd.Series(attr_type_df.weight.values,index=attr_type_df.Atributo).to_dict()\n",
    "        d.update(s)\n",
    "        \n",
    "    r = [d[v] for v in column_to_attr_name.values()]\n",
    "    return r\n",
    "\n",
    "# Aplica el array de pesos a las etiquetas positivas de una fila del dataframe\n",
    "def rank(row, weights):\n",
    "    r = 0\n",
    "    for i,w in enumerate(weights):\n",
    "        r+=row[i+1]*w\n",
    "    return r\n",
    "\n",
    "def inv_rank(row, weights):\n",
    "    r = rank(row, weights)\n",
    "    if r == 0:\n",
    "        return 0\n",
    "    else:\n",
    "        return 1/r\n",
    "\n",
    "TO_REPLACE = 80000 # 40% del dataset\n",
    "BATCH_SIZE = 2000\n",
    "NUM_BATCHES = TO_REPLACE // BATCH_SIZE\n",
    "\n",
    "def get_oversampled_dataset():\n",
    "    # Importa el dataframe\n",
    "    train = get_train_data()\n",
    "    # Genera array de pesos por atributo\n",
    "    weights = get_attribute_weights()\n",
    "\n",
    "    # Añade columna con el ranking de cada columna\n",
    "    train['rank'] = train.apply(lambda x: rank(x, weights),axis=1)\n",
    "    \n",
    "    # Eliminamos columnas sin atributos positivos\n",
    "    # Get indexes where name column has value john\n",
    "    train = train[train['rank'] != 0]\n",
    "    \n",
    "    # Añade la columna con el ranking inverso de cada columna\n",
    "    train['rank_inv'] = train.apply(lambda x: inv_rank(x, weights),axis=1)\n",
    "    \n",
    "    train = train.sort_values(by=['rank'])\n",
    "    \n",
    "    for i in tqdm(range(0, NUM_BATCHES)):\n",
    "        \n",
    "        p_25 = np.percentile(train['rank'], 25)\n",
    "        p_75 = np.percentile(train['rank'], 75)\n",
    "    \n",
    "        # Undersampling - Elimina N columnas aleatorias dentro de aquellas con un ranking superior al p75\n",
    "        train = train.drop(train[train['rank'] > p_75].sample(n=BATCH_SIZE, weights='rank', random_state=1).index)\n",
    "        # Oversampling - Duplica N columnas aleatorias dentro de aquellas con un ranking inferior al p25\n",
    "        train = train.append(train[train['rank'] < p_25].sample(n=BATCH_SIZE, random_state=1), ignore_index = True)\n",
    "\n",
    "    train = train.sort_values(by=['rank'])\n",
    "    train = train.drop(columns=['rank', 'rank_inv'])\n",
    "    return train\n",
    "\n",
    "def show_frequencies(df):\n",
    "    attr_types = []\n",
    "    for k, v in attr_type_to_columns.items():\n",
    "        attr_types.extend([ATTR_TYPES[str(k)]] * len(v))\n",
    "\n",
    "    # Columnas de frecuencia real\n",
    "    df = df.drop(columns=['filename'])\n",
    "    frequency_train = df.sum().tolist()\n",
    "\n",
    "    # Creación de dataframe\n",
    "    d = {'Atributo': attributes, 'Tipo': attr_types, 'Frecuencia train' : frequency_train}\n",
    "    return pd.DataFrame(data=d)"
   ]
  },
  {
   "cell_type": "code",
   "execution_count": 29,
   "metadata": {},
   "outputs": [
    {
     "name": "stderr",
     "output_type": "stream",
     "text": [
      "100%|██████████████████████████████████████████████████████████████████████████████████| 40/40 [00:49<00:00,  1.23s/it]\n"
     ]
    }
   ],
   "source": [
    "df = get_oversampled_dataset()\n",
    "# Guardamos en fichero para ser usado desde otro notebook\n",
    "df.to_csv(ANNO_COARSE_PATH + \"/oversampled.txt\", index=False, header=True, sep=' ')"
   ]
  },
  {
   "cell_type": "code",
   "execution_count": null,
   "metadata": {},
   "outputs": [],
   "source": []
  }
 ],
 "metadata": {
  "kernelspec": {
   "display_name": "Python 3",
   "language": "python",
   "name": "python3"
  },
  "language_info": {
   "codemirror_mode": {
    "name": "ipython",
    "version": 3
   },
   "file_extension": ".py",
   "mimetype": "text/x-python",
   "name": "python",
   "nbconvert_exporter": "python",
   "pygments_lexer": "ipython3",
   "version": "3.7.4"
  }
 },
 "nbformat": 4,
 "nbformat_minor": 2
}
